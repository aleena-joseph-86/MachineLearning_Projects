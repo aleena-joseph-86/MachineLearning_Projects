{
 "cells": [
  {
   "cell_type": "markdown",
   "id": "e35844de-d63a-4b97-81b0-25d48c395512",
   "metadata": {},
   "source": [
    "#### 1.Import the necessary modules"
   ]
  },
  {
   "cell_type": "code",
   "execution_count": null,
   "id": "7fcc2ffc-b874-427d-b823-9d7ff6c03446",
   "metadata": {},
   "outputs": [],
   "source": [
    "import pandas as pd\n",
    "import numpy as np\n",
    "from sklearn import linear_model\n",
    "import matplotlib.pyplot as plt"
   ]
  },
  {
   "cell_type": "markdown",
   "id": "bd9f4888-53d0-4245-ba20-86f3c821339c",
   "metadata": {},
   "source": [
    "#### 2.Read the data"
   ]
  },
  {
   "cell_type": "code",
   "execution_count": null,
   "id": "31de7f54-c8b7-43ed-a567-733b66e7fe7f",
   "metadata": {},
   "outputs": [],
   "source": [
    "data = pd.read_csv('test_scores.csv')\n",
    "data"
   ]
  },
  {
   "cell_type": "markdown",
   "id": "e97d1a4e-fff9-4710-97de-f90ee74c8c0e",
   "metadata": {},
   "source": [
    "#### 3.Define the function for gradient descent"
   ]
  },
  {
   "cell_type": "code",
   "execution_count": null,
   "id": "76e7f53f-9f57-4c20-a6a7-59490a9a21bd",
   "metadata": {},
   "outputs": [],
   "source": [
    "def gradient_descent(x,y): \n",
    "    m_curr = c_curr = 0\n",
    "    learning_rate = 0.0002\n",
    "    no_of_iterations = 1000000\n",
    "    n = len(x)\n",
    "    for i in range(no_of_iterations): \n",
    "        y_predicted = m_curr * x + c_curr\n",
    "        mse = (1/n) * sum([val**2 for val in (y-y_predicted)])\n",
    "        md = (-2/n) * sum(x*(y - y_predicted))\n",
    "        cd = (-2/n) * sum(y - y_predicted)\n",
    "        m_curr = m_curr - learning_rate * md \n",
    "        c_curr = c_curr - learning_rate * cd\n",
    "        print('Iteration {}: Cost {} , m_curr {} , c_curr {}'.format(i,mse,m_curr,c_curr))"
   ]
  },
  {
   "cell_type": "markdown",
   "id": "e2ca347f-0d44-49eb-92f0-54563619fd70",
   "metadata": {},
   "source": [
    "#### 4.Call the function"
   ]
  },
  {
   "cell_type": "code",
   "execution_count": null,
   "id": "a7b02da8-95dd-4600-9f81-fe076292dd61",
   "metadata": {},
   "outputs": [],
   "source": [
    "math_array = np.array(data.math)\n",
    "cs_array = np.array(data.cs)\n",
    "gradient_descent(math_array,cs_array)"
   ]
  },
  {
   "cell_type": "markdown",
   "id": "571adbab-edfe-4f72-bbd7-28e1e09864b5",
   "metadata": {},
   "source": [
    "#### 5.Verification"
   ]
  },
  {
   "cell_type": "code",
   "execution_count": null,
   "id": "66dade24-9a81-461d-989f-c63a85e56858",
   "metadata": {},
   "outputs": [],
   "source": [
    "# Choose the best model\n",
    "plt.scatter(data.math,data.cs)\n",
    "plt.title('math vs cs')\n",
    "plt.xlabel('math')\n",
    "plt.ylabel('cs')\n",
    "plt.show()\n"
   ]
  },
  {
   "cell_type": "code",
   "execution_count": null,
   "id": "667f7baf-cd9c-425d-a592-2f86da04cf36",
   "metadata": {},
   "outputs": [],
   "source": [
    "# Train the model \n",
    "model = linear_model.LinearRegression()\n",
    "math = data.drop(['name','cs'],axis='columns')\n",
    "cs = data.cs\n",
    "model.fit(math,cs)"
   ]
  },
  {
   "cell_type": "code",
   "execution_count": null,
   "id": "724a9c8a-78fc-4c74-8c02-37282038c660",
   "metadata": {},
   "outputs": [],
   "source": [
    "# Find m and c \n",
    "m = model.coef_\n",
    "c = model.intercept_\n",
    "print('The m and c found using inbuilt functions are {} and {}'.format(m,c))"
   ]
  }
 ],
 "metadata": {
  "kernelspec": {
   "display_name": "Python 3 (ipykernel)",
   "language": "python",
   "name": "python3"
  },
  "language_info": {
   "codemirror_mode": {
    "name": "ipython",
    "version": 3
   },
   "file_extension": ".py",
   "mimetype": "text/x-python",
   "name": "python",
   "nbconvert_exporter": "python",
   "pygments_lexer": "ipython3",
   "version": "3.12.3"
  }
 },
 "nbformat": 4,
 "nbformat_minor": 5
}
